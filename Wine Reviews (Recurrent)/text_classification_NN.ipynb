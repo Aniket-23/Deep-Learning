{
  "cells": [
    {
      "cell_type": "markdown",
      "metadata": {
        "id": "view-in-github",
        "colab_type": "text"
      },
      "source": [
        "<a href=\"https://colab.research.google.com/github/Aniket-23/Deep-Learning/blob/master/text_classification_NN.ipynb\" target=\"_parent\"><img src=\"https://colab.research.google.com/assets/colab-badge.svg\" alt=\"Open In Colab\"/></a>"
      ]
    },
    {
      "cell_type": "markdown",
      "id": "4fb8996c",
      "metadata": {
        "id": "4fb8996c"
      },
      "source": [
        "# Recurrent Neural Network"
      ]
    },
    {
      "cell_type": "markdown",
      "id": "ee93c5f7",
      "metadata": {
        "id": "ee93c5f7"
      },
      "source": [
        "If the input data were a sequence, the feedforward neural net would not really do a good job of picking it up. It is because each node of each layer of a feedforward neural net would evaluate those values as if they were independent variables.\n",
        "\n",
        "That's where Recurrent Neural Network comes into the picture. For a given time t, it takes the data x(t) and compiles it through the model keeping in mind, the information gained while processing x(t-1). But sometimes it encounters problems such as exploding gradients and vanishing gradients, that come by compiling the same data again and again and again.\n",
        "Encounter these issues, there are GRU(Gated Recurrent Unit) and LSTM(Long-Short Term Memory).\n",
        "\n",
        "In GRU, there is more parameter inside a neuron itself that develops and trains the model thoroughly rather than trying to directly sum up some weights. It has 2 gates (advanced topics).\n",
        "\n",
        "LSTM is something very similar to GRU, but instead of having 2 gates, it has 3."
      ]
    },
    {
      "cell_type": "code",
      "execution_count": null,
      "id": "bb01f3c3",
      "metadata": {
        "id": "bb01f3c3"
      },
      "outputs": [],
      "source": [
        "import numpy as np\n",
        "import pandas as pd\n",
        "import matplotlib.pyplot as plt\n",
        "import tensorflow as tf\n",
        "import tensorflow_hub as hub"
      ]
    },
    {
      "cell_type": "code",
      "execution_count": null,
      "id": "7a26a0f7",
      "metadata": {
        "id": "7a26a0f7",
        "outputId": "0a0f79c3-d0e0-48df-8f97-ac20c1d53a93"
      },
      "outputs": [
        {
          "data": {
            "text/html": [
              "<div>\n",
              "<style scoped>\n",
              "    .dataframe tbody tr th:only-of-type {\n",
              "        vertical-align: middle;\n",
              "    }\n",
              "\n",
              "    .dataframe tbody tr th {\n",
              "        vertical-align: top;\n",
              "    }\n",
              "\n",
              "    .dataframe thead th {\n",
              "        text-align: right;\n",
              "    }\n",
              "</style>\n",
              "<table border=\"1\" class=\"dataframe\">\n",
              "  <thead>\n",
              "    <tr style=\"text-align: right;\">\n",
              "      <th></th>\n",
              "      <th>Unnamed: 0</th>\n",
              "      <th>country</th>\n",
              "      <th>description</th>\n",
              "      <th>designation</th>\n",
              "      <th>points</th>\n",
              "      <th>price</th>\n",
              "      <th>province</th>\n",
              "      <th>region_1</th>\n",
              "      <th>region_2</th>\n",
              "      <th>taster_name</th>\n",
              "      <th>taster_twitter_handle</th>\n",
              "      <th>title</th>\n",
              "      <th>variety</th>\n",
              "      <th>winery</th>\n",
              "    </tr>\n",
              "  </thead>\n",
              "  <tbody>\n",
              "    <tr>\n",
              "      <th>0</th>\n",
              "      <td>0</td>\n",
              "      <td>Italy</td>\n",
              "      <td>Aromas include tropical fruit, broom, brimston...</td>\n",
              "      <td>Vulkà Bianco</td>\n",
              "      <td>87</td>\n",
              "      <td>NaN</td>\n",
              "      <td>Sicily &amp; Sardinia</td>\n",
              "      <td>Etna</td>\n",
              "      <td>NaN</td>\n",
              "      <td>Kerin O’Keefe</td>\n",
              "      <td>@kerinokeefe</td>\n",
              "      <td>Nicosia 2013 Vulkà Bianco  (Etna)</td>\n",
              "      <td>White Blend</td>\n",
              "      <td>Nicosia</td>\n",
              "    </tr>\n",
              "    <tr>\n",
              "      <th>1</th>\n",
              "      <td>1</td>\n",
              "      <td>Portugal</td>\n",
              "      <td>This is ripe and fruity, a wine that is smooth...</td>\n",
              "      <td>Avidagos</td>\n",
              "      <td>87</td>\n",
              "      <td>15.0</td>\n",
              "      <td>Douro</td>\n",
              "      <td>NaN</td>\n",
              "      <td>NaN</td>\n",
              "      <td>Roger Voss</td>\n",
              "      <td>@vossroger</td>\n",
              "      <td>Quinta dos Avidagos 2011 Avidagos Red (Douro)</td>\n",
              "      <td>Portuguese Red</td>\n",
              "      <td>Quinta dos Avidagos</td>\n",
              "    </tr>\n",
              "    <tr>\n",
              "      <th>2</th>\n",
              "      <td>2</td>\n",
              "      <td>US</td>\n",
              "      <td>Tart and snappy, the flavors of lime flesh and...</td>\n",
              "      <td>NaN</td>\n",
              "      <td>87</td>\n",
              "      <td>14.0</td>\n",
              "      <td>Oregon</td>\n",
              "      <td>Willamette Valley</td>\n",
              "      <td>Willamette Valley</td>\n",
              "      <td>Paul Gregutt</td>\n",
              "      <td>@paulgwine</td>\n",
              "      <td>Rainstorm 2013 Pinot Gris (Willamette Valley)</td>\n",
              "      <td>Pinot Gris</td>\n",
              "      <td>Rainstorm</td>\n",
              "    </tr>\n",
              "    <tr>\n",
              "      <th>3</th>\n",
              "      <td>3</td>\n",
              "      <td>US</td>\n",
              "      <td>Pineapple rind, lemon pith and orange blossom ...</td>\n",
              "      <td>Reserve Late Harvest</td>\n",
              "      <td>87</td>\n",
              "      <td>13.0</td>\n",
              "      <td>Michigan</td>\n",
              "      <td>Lake Michigan Shore</td>\n",
              "      <td>NaN</td>\n",
              "      <td>Alexander Peartree</td>\n",
              "      <td>NaN</td>\n",
              "      <td>St. Julian 2013 Reserve Late Harvest Riesling ...</td>\n",
              "      <td>Riesling</td>\n",
              "      <td>St. Julian</td>\n",
              "    </tr>\n",
              "    <tr>\n",
              "      <th>4</th>\n",
              "      <td>4</td>\n",
              "      <td>US</td>\n",
              "      <td>Much like the regular bottling from 2012, this...</td>\n",
              "      <td>Vintner's Reserve Wild Child Block</td>\n",
              "      <td>87</td>\n",
              "      <td>65.0</td>\n",
              "      <td>Oregon</td>\n",
              "      <td>Willamette Valley</td>\n",
              "      <td>Willamette Valley</td>\n",
              "      <td>Paul Gregutt</td>\n",
              "      <td>@paulgwine</td>\n",
              "      <td>Sweet Cheeks 2012 Vintner's Reserve Wild Child...</td>\n",
              "      <td>Pinot Noir</td>\n",
              "      <td>Sweet Cheeks</td>\n",
              "    </tr>\n",
              "    <tr>\n",
              "      <th>...</th>\n",
              "      <td>...</td>\n",
              "      <td>...</td>\n",
              "      <td>...</td>\n",
              "      <td>...</td>\n",
              "      <td>...</td>\n",
              "      <td>...</td>\n",
              "      <td>...</td>\n",
              "      <td>...</td>\n",
              "      <td>...</td>\n",
              "      <td>...</td>\n",
              "      <td>...</td>\n",
              "      <td>...</td>\n",
              "      <td>...</td>\n",
              "      <td>...</td>\n",
              "    </tr>\n",
              "    <tr>\n",
              "      <th>129966</th>\n",
              "      <td>129966</td>\n",
              "      <td>Germany</td>\n",
              "      <td>Notes of honeysuckle and cantaloupe sweeten th...</td>\n",
              "      <td>Brauneberger Juffer-Sonnenuhr Spätlese</td>\n",
              "      <td>90</td>\n",
              "      <td>28.0</td>\n",
              "      <td>Mosel</td>\n",
              "      <td>NaN</td>\n",
              "      <td>NaN</td>\n",
              "      <td>Anna Lee C. Iijima</td>\n",
              "      <td>NaN</td>\n",
              "      <td>Dr. H. Thanisch (Erben Müller-Burggraef) 2013 ...</td>\n",
              "      <td>Riesling</td>\n",
              "      <td>Dr. H. Thanisch (Erben Müller-Burggraef)</td>\n",
              "    </tr>\n",
              "    <tr>\n",
              "      <th>129967</th>\n",
              "      <td>129967</td>\n",
              "      <td>US</td>\n",
              "      <td>Citation is given as much as a decade of bottl...</td>\n",
              "      <td>NaN</td>\n",
              "      <td>90</td>\n",
              "      <td>75.0</td>\n",
              "      <td>Oregon</td>\n",
              "      <td>Oregon</td>\n",
              "      <td>Oregon Other</td>\n",
              "      <td>Paul Gregutt</td>\n",
              "      <td>@paulgwine</td>\n",
              "      <td>Citation 2004 Pinot Noir (Oregon)</td>\n",
              "      <td>Pinot Noir</td>\n",
              "      <td>Citation</td>\n",
              "    </tr>\n",
              "    <tr>\n",
              "      <th>129968</th>\n",
              "      <td>129968</td>\n",
              "      <td>France</td>\n",
              "      <td>Well-drained gravel soil gives this wine its c...</td>\n",
              "      <td>Kritt</td>\n",
              "      <td>90</td>\n",
              "      <td>30.0</td>\n",
              "      <td>Alsace</td>\n",
              "      <td>Alsace</td>\n",
              "      <td>NaN</td>\n",
              "      <td>Roger Voss</td>\n",
              "      <td>@vossroger</td>\n",
              "      <td>Domaine Gresser 2013 Kritt Gewurztraminer (Als...</td>\n",
              "      <td>Gewürztraminer</td>\n",
              "      <td>Domaine Gresser</td>\n",
              "    </tr>\n",
              "    <tr>\n",
              "      <th>129969</th>\n",
              "      <td>129969</td>\n",
              "      <td>France</td>\n",
              "      <td>A dry style of Pinot Gris, this is crisp with ...</td>\n",
              "      <td>NaN</td>\n",
              "      <td>90</td>\n",
              "      <td>32.0</td>\n",
              "      <td>Alsace</td>\n",
              "      <td>Alsace</td>\n",
              "      <td>NaN</td>\n",
              "      <td>Roger Voss</td>\n",
              "      <td>@vossroger</td>\n",
              "      <td>Domaine Marcel Deiss 2012 Pinot Gris (Alsace)</td>\n",
              "      <td>Pinot Gris</td>\n",
              "      <td>Domaine Marcel Deiss</td>\n",
              "    </tr>\n",
              "    <tr>\n",
              "      <th>129970</th>\n",
              "      <td>129970</td>\n",
              "      <td>France</td>\n",
              "      <td>Big, rich and off-dry, this is powered by inte...</td>\n",
              "      <td>Lieu-dit Harth Cuvée Caroline</td>\n",
              "      <td>90</td>\n",
              "      <td>21.0</td>\n",
              "      <td>Alsace</td>\n",
              "      <td>Alsace</td>\n",
              "      <td>NaN</td>\n",
              "      <td>Roger Voss</td>\n",
              "      <td>@vossroger</td>\n",
              "      <td>Domaine Schoffit 2012 Lieu-dit Harth Cuvée Car...</td>\n",
              "      <td>Gewürztraminer</td>\n",
              "      <td>Domaine Schoffit</td>\n",
              "    </tr>\n",
              "  </tbody>\n",
              "</table>\n",
              "<p>129971 rows × 14 columns</p>\n",
              "</div>"
            ],
            "text/plain": [
              "        Unnamed: 0   country  \\\n",
              "0                0     Italy   \n",
              "1                1  Portugal   \n",
              "2                2        US   \n",
              "3                3        US   \n",
              "4                4        US   \n",
              "...            ...       ...   \n",
              "129966      129966   Germany   \n",
              "129967      129967        US   \n",
              "129968      129968    France   \n",
              "129969      129969    France   \n",
              "129970      129970    France   \n",
              "\n",
              "                                              description  \\\n",
              "0       Aromas include tropical fruit, broom, brimston...   \n",
              "1       This is ripe and fruity, a wine that is smooth...   \n",
              "2       Tart and snappy, the flavors of lime flesh and...   \n",
              "3       Pineapple rind, lemon pith and orange blossom ...   \n",
              "4       Much like the regular bottling from 2012, this...   \n",
              "...                                                   ...   \n",
              "129966  Notes of honeysuckle and cantaloupe sweeten th...   \n",
              "129967  Citation is given as much as a decade of bottl...   \n",
              "129968  Well-drained gravel soil gives this wine its c...   \n",
              "129969  A dry style of Pinot Gris, this is crisp with ...   \n",
              "129970  Big, rich and off-dry, this is powered by inte...   \n",
              "\n",
              "                                   designation  points  price  \\\n",
              "0                                 Vulkà Bianco      87    NaN   \n",
              "1                                     Avidagos      87   15.0   \n",
              "2                                          NaN      87   14.0   \n",
              "3                         Reserve Late Harvest      87   13.0   \n",
              "4           Vintner's Reserve Wild Child Block      87   65.0   \n",
              "...                                        ...     ...    ...   \n",
              "129966  Brauneberger Juffer-Sonnenuhr Spätlese      90   28.0   \n",
              "129967                                     NaN      90   75.0   \n",
              "129968                                   Kritt      90   30.0   \n",
              "129969                                     NaN      90   32.0   \n",
              "129970           Lieu-dit Harth Cuvée Caroline      90   21.0   \n",
              "\n",
              "                 province             region_1           region_2  \\\n",
              "0       Sicily & Sardinia                 Etna                NaN   \n",
              "1                   Douro                  NaN                NaN   \n",
              "2                  Oregon    Willamette Valley  Willamette Valley   \n",
              "3                Michigan  Lake Michigan Shore                NaN   \n",
              "4                  Oregon    Willamette Valley  Willamette Valley   \n",
              "...                   ...                  ...                ...   \n",
              "129966              Mosel                  NaN                NaN   \n",
              "129967             Oregon               Oregon       Oregon Other   \n",
              "129968             Alsace               Alsace                NaN   \n",
              "129969             Alsace               Alsace                NaN   \n",
              "129970             Alsace               Alsace                NaN   \n",
              "\n",
              "               taster_name taster_twitter_handle  \\\n",
              "0            Kerin O’Keefe          @kerinokeefe   \n",
              "1               Roger Voss            @vossroger   \n",
              "2             Paul Gregutt           @paulgwine    \n",
              "3       Alexander Peartree                   NaN   \n",
              "4             Paul Gregutt           @paulgwine    \n",
              "...                    ...                   ...   \n",
              "129966  Anna Lee C. Iijima                   NaN   \n",
              "129967        Paul Gregutt           @paulgwine    \n",
              "129968          Roger Voss            @vossroger   \n",
              "129969          Roger Voss            @vossroger   \n",
              "129970          Roger Voss            @vossroger   \n",
              "\n",
              "                                                    title         variety  \\\n",
              "0                       Nicosia 2013 Vulkà Bianco  (Etna)     White Blend   \n",
              "1           Quinta dos Avidagos 2011 Avidagos Red (Douro)  Portuguese Red   \n",
              "2           Rainstorm 2013 Pinot Gris (Willamette Valley)      Pinot Gris   \n",
              "3       St. Julian 2013 Reserve Late Harvest Riesling ...        Riesling   \n",
              "4       Sweet Cheeks 2012 Vintner's Reserve Wild Child...      Pinot Noir   \n",
              "...                                                   ...             ...   \n",
              "129966  Dr. H. Thanisch (Erben Müller-Burggraef) 2013 ...        Riesling   \n",
              "129967                  Citation 2004 Pinot Noir (Oregon)      Pinot Noir   \n",
              "129968  Domaine Gresser 2013 Kritt Gewurztraminer (Als...  Gewürztraminer   \n",
              "129969      Domaine Marcel Deiss 2012 Pinot Gris (Alsace)      Pinot Gris   \n",
              "129970  Domaine Schoffit 2012 Lieu-dit Harth Cuvée Car...  Gewürztraminer   \n",
              "\n",
              "                                          winery  \n",
              "0                                        Nicosia  \n",
              "1                            Quinta dos Avidagos  \n",
              "2                                      Rainstorm  \n",
              "3                                     St. Julian  \n",
              "4                                   Sweet Cheeks  \n",
              "...                                          ...  \n",
              "129966  Dr. H. Thanisch (Erben Müller-Burggraef)  \n",
              "129967                                  Citation  \n",
              "129968                           Domaine Gresser  \n",
              "129969                      Domaine Marcel Deiss  \n",
              "129970                          Domaine Schoffit  \n",
              "\n",
              "[129971 rows x 14 columns]"
            ]
          },
          "execution_count": 2,
          "metadata": {},
          "output_type": "execute_result"
        }
      ],
      "source": [
        "df = pd.read_csv('dataset/wine-reviews.csv')\n",
        "df"
      ]
    },
    {
      "cell_type": "markdown",
      "id": "2a0ad8b4",
      "metadata": {
        "id": "2a0ad8b4"
      },
      "source": [
        "We shall only use the columns that we deem necessary."
      ]
    },
    {
      "cell_type": "code",
      "execution_count": null,
      "id": "bb0e8a7f",
      "metadata": {
        "id": "bb0e8a7f",
        "outputId": "19f26381-4262-430b-ac2c-0ed4b9697214"
      },
      "outputs": [
        {
          "data": {
            "text/html": [
              "<div>\n",
              "<style scoped>\n",
              "    .dataframe tbody tr th:only-of-type {\n",
              "        vertical-align: middle;\n",
              "    }\n",
              "\n",
              "    .dataframe tbody tr th {\n",
              "        vertical-align: top;\n",
              "    }\n",
              "\n",
              "    .dataframe thead th {\n",
              "        text-align: right;\n",
              "    }\n",
              "</style>\n",
              "<table border=\"1\" class=\"dataframe\">\n",
              "  <thead>\n",
              "    <tr style=\"text-align: right;\">\n",
              "      <th></th>\n",
              "      <th>country</th>\n",
              "      <th>description</th>\n",
              "      <th>points</th>\n",
              "      <th>price</th>\n",
              "      <th>variety</th>\n",
              "      <th>winery</th>\n",
              "    </tr>\n",
              "  </thead>\n",
              "  <tbody>\n",
              "    <tr>\n",
              "      <th>0</th>\n",
              "      <td>Italy</td>\n",
              "      <td>Aromas include tropical fruit, broom, brimston...</td>\n",
              "      <td>87</td>\n",
              "      <td>NaN</td>\n",
              "      <td>White Blend</td>\n",
              "      <td>Nicosia</td>\n",
              "    </tr>\n",
              "    <tr>\n",
              "      <th>1</th>\n",
              "      <td>Portugal</td>\n",
              "      <td>This is ripe and fruity, a wine that is smooth...</td>\n",
              "      <td>87</td>\n",
              "      <td>15.0</td>\n",
              "      <td>Portuguese Red</td>\n",
              "      <td>Quinta dos Avidagos</td>\n",
              "    </tr>\n",
              "    <tr>\n",
              "      <th>2</th>\n",
              "      <td>US</td>\n",
              "      <td>Tart and snappy, the flavors of lime flesh and...</td>\n",
              "      <td>87</td>\n",
              "      <td>14.0</td>\n",
              "      <td>Pinot Gris</td>\n",
              "      <td>Rainstorm</td>\n",
              "    </tr>\n",
              "    <tr>\n",
              "      <th>3</th>\n",
              "      <td>US</td>\n",
              "      <td>Pineapple rind, lemon pith and orange blossom ...</td>\n",
              "      <td>87</td>\n",
              "      <td>13.0</td>\n",
              "      <td>Riesling</td>\n",
              "      <td>St. Julian</td>\n",
              "    </tr>\n",
              "    <tr>\n",
              "      <th>4</th>\n",
              "      <td>US</td>\n",
              "      <td>Much like the regular bottling from 2012, this...</td>\n",
              "      <td>87</td>\n",
              "      <td>65.0</td>\n",
              "      <td>Pinot Noir</td>\n",
              "      <td>Sweet Cheeks</td>\n",
              "    </tr>\n",
              "    <tr>\n",
              "      <th>...</th>\n",
              "      <td>...</td>\n",
              "      <td>...</td>\n",
              "      <td>...</td>\n",
              "      <td>...</td>\n",
              "      <td>...</td>\n",
              "      <td>...</td>\n",
              "    </tr>\n",
              "    <tr>\n",
              "      <th>129966</th>\n",
              "      <td>Germany</td>\n",
              "      <td>Notes of honeysuckle and cantaloupe sweeten th...</td>\n",
              "      <td>90</td>\n",
              "      <td>28.0</td>\n",
              "      <td>Riesling</td>\n",
              "      <td>Dr. H. Thanisch (Erben Müller-Burggraef)</td>\n",
              "    </tr>\n",
              "    <tr>\n",
              "      <th>129967</th>\n",
              "      <td>US</td>\n",
              "      <td>Citation is given as much as a decade of bottl...</td>\n",
              "      <td>90</td>\n",
              "      <td>75.0</td>\n",
              "      <td>Pinot Noir</td>\n",
              "      <td>Citation</td>\n",
              "    </tr>\n",
              "    <tr>\n",
              "      <th>129968</th>\n",
              "      <td>France</td>\n",
              "      <td>Well-drained gravel soil gives this wine its c...</td>\n",
              "      <td>90</td>\n",
              "      <td>30.0</td>\n",
              "      <td>Gewürztraminer</td>\n",
              "      <td>Domaine Gresser</td>\n",
              "    </tr>\n",
              "    <tr>\n",
              "      <th>129969</th>\n",
              "      <td>France</td>\n",
              "      <td>A dry style of Pinot Gris, this is crisp with ...</td>\n",
              "      <td>90</td>\n",
              "      <td>32.0</td>\n",
              "      <td>Pinot Gris</td>\n",
              "      <td>Domaine Marcel Deiss</td>\n",
              "    </tr>\n",
              "    <tr>\n",
              "      <th>129970</th>\n",
              "      <td>France</td>\n",
              "      <td>Big, rich and off-dry, this is powered by inte...</td>\n",
              "      <td>90</td>\n",
              "      <td>21.0</td>\n",
              "      <td>Gewürztraminer</td>\n",
              "      <td>Domaine Schoffit</td>\n",
              "    </tr>\n",
              "  </tbody>\n",
              "</table>\n",
              "<p>129971 rows × 6 columns</p>\n",
              "</div>"
            ],
            "text/plain": [
              "         country                                        description  points  \\\n",
              "0          Italy  Aromas include tropical fruit, broom, brimston...      87   \n",
              "1       Portugal  This is ripe and fruity, a wine that is smooth...      87   \n",
              "2             US  Tart and snappy, the flavors of lime flesh and...      87   \n",
              "3             US  Pineapple rind, lemon pith and orange blossom ...      87   \n",
              "4             US  Much like the regular bottling from 2012, this...      87   \n",
              "...          ...                                                ...     ...   \n",
              "129966   Germany  Notes of honeysuckle and cantaloupe sweeten th...      90   \n",
              "129967        US  Citation is given as much as a decade of bottl...      90   \n",
              "129968    France  Well-drained gravel soil gives this wine its c...      90   \n",
              "129969    France  A dry style of Pinot Gris, this is crisp with ...      90   \n",
              "129970    France  Big, rich and off-dry, this is powered by inte...      90   \n",
              "\n",
              "        price         variety                                    winery  \n",
              "0         NaN     White Blend                                   Nicosia  \n",
              "1        15.0  Portuguese Red                       Quinta dos Avidagos  \n",
              "2        14.0      Pinot Gris                                 Rainstorm  \n",
              "3        13.0        Riesling                                St. Julian  \n",
              "4        65.0      Pinot Noir                              Sweet Cheeks  \n",
              "...       ...             ...                                       ...  \n",
              "129966   28.0        Riesling  Dr. H. Thanisch (Erben Müller-Burggraef)  \n",
              "129967   75.0      Pinot Noir                                  Citation  \n",
              "129968   30.0  Gewürztraminer                           Domaine Gresser  \n",
              "129969   32.0      Pinot Gris                      Domaine Marcel Deiss  \n",
              "129970   21.0  Gewürztraminer                          Domaine Schoffit  \n",
              "\n",
              "[129971 rows x 6 columns]"
            ]
          },
          "execution_count": 3,
          "metadata": {},
          "output_type": "execute_result"
        }
      ],
      "source": [
        "df = pd.read_csv('dataset/wine-reviews.csv', usecols = ['country', 'description', 'points', 'price', 'variety', 'winery'])\n",
        "df"
      ]
    },
    {
      "cell_type": "code",
      "execution_count": null,
      "id": "bf78e079",
      "metadata": {
        "id": "bf78e079",
        "outputId": "9bd0a42d-d779-4629-b844-b31a8ab89266"
      },
      "outputs": [
        {
          "data": {
            "text/plain": [
              "country          63\n",
              "description       0\n",
              "points            0\n",
              "price          8996\n",
              "variety           1\n",
              "winery            0\n",
              "dtype: int64"
            ]
          },
          "execution_count": 4,
          "metadata": {},
          "output_type": "execute_result"
        }
      ],
      "source": [
        "df.isna().sum() #checking if there are any null values"
      ]
    },
    {
      "cell_type": "markdown",
      "id": "0e4fb869",
      "metadata": {
        "id": "0e4fb869"
      },
      "source": [
        "There are a few NaN values in the column `country` and a lot of those in the column `price`. There's only one NaN value in the column `variety`."
      ]
    },
    {
      "cell_type": "code",
      "execution_count": null,
      "id": "50933ccd",
      "metadata": {
        "id": "50933ccd",
        "outputId": "a05f8cdb-8cc1-4d29-f93b-bcbca90be758"
      },
      "outputs": [
        {
          "data": {
            "text/html": [
              "<div>\n",
              "<style scoped>\n",
              "    .dataframe tbody tr th:only-of-type {\n",
              "        vertical-align: middle;\n",
              "    }\n",
              "\n",
              "    .dataframe tbody tr th {\n",
              "        vertical-align: top;\n",
              "    }\n",
              "\n",
              "    .dataframe thead th {\n",
              "        text-align: right;\n",
              "    }\n",
              "</style>\n",
              "<table border=\"1\" class=\"dataframe\">\n",
              "  <thead>\n",
              "    <tr style=\"text-align: right;\">\n",
              "      <th></th>\n",
              "      <th>country</th>\n",
              "      <th>description</th>\n",
              "      <th>points</th>\n",
              "      <th>price</th>\n",
              "      <th>variety</th>\n",
              "      <th>winery</th>\n",
              "    </tr>\n",
              "  </thead>\n",
              "  <tbody>\n",
              "    <tr>\n",
              "      <th>0</th>\n",
              "      <td>Italy</td>\n",
              "      <td>Aromas include tropical fruit, broom, brimston...</td>\n",
              "      <td>87</td>\n",
              "      <td>NaN</td>\n",
              "      <td>White Blend</td>\n",
              "      <td>Nicosia</td>\n",
              "    </tr>\n",
              "    <tr>\n",
              "      <th>1</th>\n",
              "      <td>Portugal</td>\n",
              "      <td>This is ripe and fruity, a wine that is smooth...</td>\n",
              "      <td>87</td>\n",
              "      <td>15.0</td>\n",
              "      <td>Portuguese Red</td>\n",
              "      <td>Quinta dos Avidagos</td>\n",
              "    </tr>\n",
              "    <tr>\n",
              "      <th>2</th>\n",
              "      <td>US</td>\n",
              "      <td>Tart and snappy, the flavors of lime flesh and...</td>\n",
              "      <td>87</td>\n",
              "      <td>14.0</td>\n",
              "      <td>Pinot Gris</td>\n",
              "      <td>Rainstorm</td>\n",
              "    </tr>\n",
              "    <tr>\n",
              "      <th>3</th>\n",
              "      <td>US</td>\n",
              "      <td>Pineapple rind, lemon pith and orange blossom ...</td>\n",
              "      <td>87</td>\n",
              "      <td>13.0</td>\n",
              "      <td>Riesling</td>\n",
              "      <td>St. Julian</td>\n",
              "    </tr>\n",
              "    <tr>\n",
              "      <th>4</th>\n",
              "      <td>US</td>\n",
              "      <td>Much like the regular bottling from 2012, this...</td>\n",
              "      <td>87</td>\n",
              "      <td>65.0</td>\n",
              "      <td>Pinot Noir</td>\n",
              "      <td>Sweet Cheeks</td>\n",
              "    </tr>\n",
              "    <tr>\n",
              "      <th>...</th>\n",
              "      <td>...</td>\n",
              "      <td>...</td>\n",
              "      <td>...</td>\n",
              "      <td>...</td>\n",
              "      <td>...</td>\n",
              "      <td>...</td>\n",
              "    </tr>\n",
              "    <tr>\n",
              "      <th>129966</th>\n",
              "      <td>Germany</td>\n",
              "      <td>Notes of honeysuckle and cantaloupe sweeten th...</td>\n",
              "      <td>90</td>\n",
              "      <td>28.0</td>\n",
              "      <td>Riesling</td>\n",
              "      <td>Dr. H. Thanisch (Erben Müller-Burggraef)</td>\n",
              "    </tr>\n",
              "    <tr>\n",
              "      <th>129967</th>\n",
              "      <td>US</td>\n",
              "      <td>Citation is given as much as a decade of bottl...</td>\n",
              "      <td>90</td>\n",
              "      <td>75.0</td>\n",
              "      <td>Pinot Noir</td>\n",
              "      <td>Citation</td>\n",
              "    </tr>\n",
              "    <tr>\n",
              "      <th>129968</th>\n",
              "      <td>France</td>\n",
              "      <td>Well-drained gravel soil gives this wine its c...</td>\n",
              "      <td>90</td>\n",
              "      <td>30.0</td>\n",
              "      <td>Gewürztraminer</td>\n",
              "      <td>Domaine Gresser</td>\n",
              "    </tr>\n",
              "    <tr>\n",
              "      <th>129969</th>\n",
              "      <td>France</td>\n",
              "      <td>A dry style of Pinot Gris, this is crisp with ...</td>\n",
              "      <td>90</td>\n",
              "      <td>32.0</td>\n",
              "      <td>Pinot Gris</td>\n",
              "      <td>Domaine Marcel Deiss</td>\n",
              "    </tr>\n",
              "    <tr>\n",
              "      <th>129970</th>\n",
              "      <td>France</td>\n",
              "      <td>Big, rich and off-dry, this is powered by inte...</td>\n",
              "      <td>90</td>\n",
              "      <td>21.0</td>\n",
              "      <td>Gewürztraminer</td>\n",
              "      <td>Domaine Schoffit</td>\n",
              "    </tr>\n",
              "  </tbody>\n",
              "</table>\n",
              "<p>129971 rows × 6 columns</p>\n",
              "</div>"
            ],
            "text/plain": [
              "         country                                        description  points  \\\n",
              "0          Italy  Aromas include tropical fruit, broom, brimston...      87   \n",
              "1       Portugal  This is ripe and fruity, a wine that is smooth...      87   \n",
              "2             US  Tart and snappy, the flavors of lime flesh and...      87   \n",
              "3             US  Pineapple rind, lemon pith and orange blossom ...      87   \n",
              "4             US  Much like the regular bottling from 2012, this...      87   \n",
              "...          ...                                                ...     ...   \n",
              "129966   Germany  Notes of honeysuckle and cantaloupe sweeten th...      90   \n",
              "129967        US  Citation is given as much as a decade of bottl...      90   \n",
              "129968    France  Well-drained gravel soil gives this wine its c...      90   \n",
              "129969    France  A dry style of Pinot Gris, this is crisp with ...      90   \n",
              "129970    France  Big, rich and off-dry, this is powered by inte...      90   \n",
              "\n",
              "        price         variety                                    winery  \n",
              "0         NaN     White Blend                                   Nicosia  \n",
              "1        15.0  Portuguese Red                       Quinta dos Avidagos  \n",
              "2        14.0      Pinot Gris                                 Rainstorm  \n",
              "3        13.0        Riesling                                St. Julian  \n",
              "4        65.0      Pinot Noir                              Sweet Cheeks  \n",
              "...       ...             ...                                       ...  \n",
              "129966   28.0        Riesling  Dr. H. Thanisch (Erben Müller-Burggraef)  \n",
              "129967   75.0      Pinot Noir                                  Citation  \n",
              "129968   30.0  Gewürztraminer                           Domaine Gresser  \n",
              "129969   32.0      Pinot Gris                      Domaine Marcel Deiss  \n",
              "129970   21.0  Gewürztraminer                          Domaine Schoffit  \n",
              "\n",
              "[129971 rows x 6 columns]"
            ]
          },
          "execution_count": 5,
          "metadata": {},
          "output_type": "execute_result"
        }
      ],
      "source": [
        "df.dropna(subset = ['description', 'points']) #  to drop rows where either the 'description' or 'points' column contains missing values\n",
        "df"
      ]
    },
    {
      "cell_type": "code",
      "execution_count": null,
      "id": "57511aa5",
      "metadata": {
        "id": "57511aa5",
        "outputId": "c1dcc91b-e0f4-4b21-edbe-11cac46e9232"
      },
      "outputs": [
        {
          "data": {
            "text/plain": [
              "country          63\n",
              "description       0\n",
              "points            0\n",
              "price          8996\n",
              "variety           1\n",
              "winery            0\n",
              "dtype: int64"
            ]
          },
          "execution_count": 6,
          "metadata": {},
          "output_type": "execute_result"
        }
      ],
      "source": [
        "df.isna().sum()"
      ]
    },
    {
      "cell_type": "markdown",
      "id": "85e7dc6f",
      "metadata": {
        "id": "85e7dc6f"
      },
      "source": [
        "No change, since we dropped values from the two columns that do not have any NaN values. But we tried to drop them regardless, just to be safe.\n",
        "\n",
        "Now, we will plot the `points` column to see the distribution of the points"
      ]
    },
    {
      "cell_type": "code",
      "execution_count": null,
      "id": "cb53e8a7",
      "metadata": {
        "id": "cb53e8a7",
        "outputId": "b33f2aed-3f73-4f86-da55-3907bdfb704d"
      },
      "outputs": [
        {
          "data": {
            "image/png": "[encoded data removed]",
            "text/plain": [
              "<Figure size 640x480 with 1 Axes>"
            ]
          },
          "metadata": {},
          "output_type": "display_data"
        }
      ],
      "source": [
        "plt.hist(df.points, bins=20)\n",
        "plt.title(\"Histogram for points\")\n",
        "plt.ylabel(\"Count\")\n",
        "plt.xlabel(\"Points\")\n",
        "plt.show()"
      ]
    },
    {
      "cell_type": "markdown",
      "id": "5e5366fd",
      "metadata": {
        "id": "5e5366fd"
      },
      "source": [
        "From the above graph, we can see that the range for `points` lie in between 80 and 100.\n",
        "So, let's try to classify(split) these reviews as below 90 points(low) and above 90 points(high)."
      ]
    },
    {
      "cell_type": "code",
      "execution_count": null,
      "id": "befdb062",
      "metadata": {
        "id": "befdb062",
        "outputId": "1443473e-3d31-4696-e6fe-4ff9054949a3"
      },
      "outputs": [
        {
          "data": {
            "text/html": [
              "<div>\n",
              "<style scoped>\n",
              "    .dataframe tbody tr th:only-of-type {\n",
              "        vertical-align: middle;\n",
              "    }\n",
              "\n",
              "    .dataframe tbody tr th {\n",
              "        vertical-align: top;\n",
              "    }\n",
              "\n",
              "    .dataframe thead th {\n",
              "        text-align: right;\n",
              "    }\n",
              "</style>\n",
              "<table border=\"1\" class=\"dataframe\">\n",
              "  <thead>\n",
              "    <tr style=\"text-align: right;\">\n",
              "      <th></th>\n",
              "      <th>country</th>\n",
              "      <th>description</th>\n",
              "      <th>points</th>\n",
              "      <th>price</th>\n",
              "      <th>variety</th>\n",
              "      <th>winery</th>\n",
              "      <th>label</th>\n",
              "    </tr>\n",
              "  </thead>\n",
              "  <tbody>\n",
              "    <tr>\n",
              "      <th>0</th>\n",
              "      <td>Italy</td>\n",
              "      <td>Aromas include tropical fruit, broom, brimston...</td>\n",
              "      <td>87</td>\n",
              "      <td>NaN</td>\n",
              "      <td>White Blend</td>\n",
              "      <td>Nicosia</td>\n",
              "      <td>0</td>\n",
              "    </tr>\n",
              "    <tr>\n",
              "      <th>1</th>\n",
              "      <td>Portugal</td>\n",
              "      <td>This is ripe and fruity, a wine that is smooth...</td>\n",
              "      <td>87</td>\n",
              "      <td>15.0</td>\n",
              "      <td>Portuguese Red</td>\n",
              "      <td>Quinta dos Avidagos</td>\n",
              "      <td>0</td>\n",
              "    </tr>\n",
              "    <tr>\n",
              "      <th>2</th>\n",
              "      <td>US</td>\n",
              "      <td>Tart and snappy, the flavors of lime flesh and...</td>\n",
              "      <td>87</td>\n",
              "      <td>14.0</td>\n",
              "      <td>Pinot Gris</td>\n",
              "      <td>Rainstorm</td>\n",
              "      <td>0</td>\n",
              "    </tr>\n",
              "    <tr>\n",
              "      <th>3</th>\n",
              "      <td>US</td>\n",
              "      <td>Pineapple rind, lemon pith and orange blossom ...</td>\n",
              "      <td>87</td>\n",
              "      <td>13.0</td>\n",
              "      <td>Riesling</td>\n",
              "      <td>St. Julian</td>\n",
              "      <td>0</td>\n",
              "    </tr>\n",
              "    <tr>\n",
              "      <th>4</th>\n",
              "      <td>US</td>\n",
              "      <td>Much like the regular bottling from 2012, this...</td>\n",
              "      <td>87</td>\n",
              "      <td>65.0</td>\n",
              "      <td>Pinot Noir</td>\n",
              "      <td>Sweet Cheeks</td>\n",
              "      <td>0</td>\n",
              "    </tr>\n",
              "    <tr>\n",
              "      <th>...</th>\n",
              "      <td>...</td>\n",
              "      <td>...</td>\n",
              "      <td>...</td>\n",
              "      <td>...</td>\n",
              "      <td>...</td>\n",
              "      <td>...</td>\n",
              "      <td>...</td>\n",
              "    </tr>\n",
              "    <tr>\n",
              "      <th>129966</th>\n",
              "      <td>Germany</td>\n",
              "      <td>Notes of honeysuckle and cantaloupe sweeten th...</td>\n",
              "      <td>90</td>\n",
              "      <td>28.0</td>\n",
              "      <td>Riesling</td>\n",
              "      <td>Dr. H. Thanisch (Erben Müller-Burggraef)</td>\n",
              "      <td>1</td>\n",
              "    </tr>\n",
              "    <tr>\n",
              "      <th>129967</th>\n",
              "      <td>US</td>\n",
              "      <td>Citation is given as much as a decade of bottl...</td>\n",
              "      <td>90</td>\n",
              "      <td>75.0</td>\n",
              "      <td>Pinot Noir</td>\n",
              "      <td>Citation</td>\n",
              "      <td>1</td>\n",
              "    </tr>\n",
              "    <tr>\n",
              "      <th>129968</th>\n",
              "      <td>France</td>\n",
              "      <td>Well-drained gravel soil gives this wine its c...</td>\n",
              "      <td>90</td>\n",
              "      <td>30.0</td>\n",
              "      <td>Gewürztraminer</td>\n",
              "      <td>Domaine Gresser</td>\n",
              "      <td>1</td>\n",
              "    </tr>\n",
              "    <tr>\n",
              "      <th>129969</th>\n",
              "      <td>France</td>\n",
              "      <td>A dry style of Pinot Gris, this is crisp with ...</td>\n",
              "      <td>90</td>\n",
              "      <td>32.0</td>\n",
              "      <td>Pinot Gris</td>\n",
              "      <td>Domaine Marcel Deiss</td>\n",
              "      <td>1</td>\n",
              "    </tr>\n",
              "    <tr>\n",
              "      <th>129970</th>\n",
              "      <td>France</td>\n",
              "      <td>Big, rich and off-dry, this is powered by inte...</td>\n",
              "      <td>90</td>\n",
              "      <td>21.0</td>\n",
              "      <td>Gewürztraminer</td>\n",
              "      <td>Domaine Schoffit</td>\n",
              "      <td>1</td>\n",
              "    </tr>\n",
              "  </tbody>\n",
              "</table>\n",
              "<p>129971 rows × 7 columns</p>\n",
              "</div>"
            ],
            "text/plain": [
              "         country                                        description  points  \\\n",
              "0          Italy  Aromas include tropical fruit, broom, brimston...      87   \n",
              "1       Portugal  This is ripe and fruity, a wine that is smooth...      87   \n",
              "2             US  Tart and snappy, the flavors of lime flesh and...      87   \n",
              "3             US  Pineapple rind, lemon pith and orange blossom ...      87   \n",
              "4             US  Much like the regular bottling from 2012, this...      87   \n",
              "...          ...                                                ...     ...   \n",
              "129966   Germany  Notes of honeysuckle and cantaloupe sweeten th...      90   \n",
              "129967        US  Citation is given as much as a decade of bottl...      90   \n",
              "129968    France  Well-drained gravel soil gives this wine its c...      90   \n",
              "129969    France  A dry style of Pinot Gris, this is crisp with ...      90   \n",
              "129970    France  Big, rich and off-dry, this is powered by inte...      90   \n",
              "\n",
              "        price         variety                                    winery  label  \n",
              "0         NaN     White Blend                                   Nicosia      0  \n",
              "1        15.0  Portuguese Red                       Quinta dos Avidagos      0  \n",
              "2        14.0      Pinot Gris                                 Rainstorm      0  \n",
              "3        13.0        Riesling                                St. Julian      0  \n",
              "4        65.0      Pinot Noir                              Sweet Cheeks      0  \n",
              "...       ...             ...                                       ...    ...  \n",
              "129966   28.0        Riesling  Dr. H. Thanisch (Erben Müller-Burggraef)      1  \n",
              "129967   75.0      Pinot Noir                                  Citation      1  \n",
              "129968   30.0  Gewürztraminer                           Domaine Gresser      1  \n",
              "129969   32.0      Pinot Gris                      Domaine Marcel Deiss      1  \n",
              "129970   21.0  Gewürztraminer                          Domaine Schoffit      1  \n",
              "\n",
              "[129971 rows x 7 columns]"
            ]
          },
          "execution_count": 8,
          "metadata": {},
          "output_type": "execute_result"
        }
      ],
      "source": [
        "df[\"label\"] = (df.points >= 90).astype(int)\n",
        "df"
      ]
    },
    {
      "cell_type": "code",
      "execution_count": null,
      "id": "0ef922a7",
      "metadata": {
        "id": "0ef922a7",
        "outputId": "76c77b51-7306-44e7-a76d-40a65fa8041f"
      },
      "outputs": [
        {
          "data": {
            "text/html": [
              "<div>\n",
              "<style scoped>\n",
              "    .dataframe tbody tr th:only-of-type {\n",
              "        vertical-align: middle;\n",
              "    }\n",
              "\n",
              "    .dataframe tbody tr th {\n",
              "        vertical-align: top;\n",
              "    }\n",
              "\n",
              "    .dataframe thead th {\n",
              "        text-align: right;\n",
              "    }\n",
              "</style>\n",
              "<table border=\"1\" class=\"dataframe\">\n",
              "  <thead>\n",
              "    <tr style=\"text-align: right;\">\n",
              "      <th></th>\n",
              "      <th>description</th>\n",
              "      <th>label</th>\n",
              "    </tr>\n",
              "  </thead>\n",
              "  <tbody>\n",
              "    <tr>\n",
              "      <th>0</th>\n",
              "      <td>Aromas include tropical fruit, broom, brimston...</td>\n",
              "      <td>0</td>\n",
              "    </tr>\n",
              "    <tr>\n",
              "      <th>1</th>\n",
              "      <td>This is ripe and fruity, a wine that is smooth...</td>\n",
              "      <td>0</td>\n",
              "    </tr>\n",
              "    <tr>\n",
              "      <th>2</th>\n",
              "      <td>Tart and snappy, the flavors of lime flesh and...</td>\n",
              "      <td>0</td>\n",
              "    </tr>\n",
              "    <tr>\n",
              "      <th>3</th>\n",
              "      <td>Pineapple rind, lemon pith and orange blossom ...</td>\n",
              "      <td>0</td>\n",
              "    </tr>\n",
              "    <tr>\n",
              "      <th>4</th>\n",
              "      <td>Much like the regular bottling from 2012, this...</td>\n",
              "      <td>0</td>\n",
              "    </tr>\n",
              "    <tr>\n",
              "      <th>...</th>\n",
              "      <td>...</td>\n",
              "      <td>...</td>\n",
              "    </tr>\n",
              "    <tr>\n",
              "      <th>129966</th>\n",
              "      <td>Notes of honeysuckle and cantaloupe sweeten th...</td>\n",
              "      <td>1</td>\n",
              "    </tr>\n",
              "    <tr>\n",
              "      <th>129967</th>\n",
              "      <td>Citation is given as much as a decade of bottl...</td>\n",
              "      <td>1</td>\n",
              "    </tr>\n",
              "    <tr>\n",
              "      <th>129968</th>\n",
              "      <td>Well-drained gravel soil gives this wine its c...</td>\n",
              "      <td>1</td>\n",
              "    </tr>\n",
              "    <tr>\n",
              "      <th>129969</th>\n",
              "      <td>A dry style of Pinot Gris, this is crisp with ...</td>\n",
              "      <td>1</td>\n",
              "    </tr>\n",
              "    <tr>\n",
              "      <th>129970</th>\n",
              "      <td>Big, rich and off-dry, this is powered by inte...</td>\n",
              "      <td>1</td>\n",
              "    </tr>\n",
              "  </tbody>\n",
              "</table>\n",
              "<p>129971 rows × 2 columns</p>\n",
              "</div>"
            ],
            "text/plain": [
              "                                              description  label\n",
              "0       Aromas include tropical fruit, broom, brimston...      0\n",
              "1       This is ripe and fruity, a wine that is smooth...      0\n",
              "2       Tart and snappy, the flavors of lime flesh and...      0\n",
              "3       Pineapple rind, lemon pith and orange blossom ...      0\n",
              "4       Much like the regular bottling from 2012, this...      0\n",
              "...                                                   ...    ...\n",
              "129966  Notes of honeysuckle and cantaloupe sweeten th...      1\n",
              "129967  Citation is given as much as a decade of bottl...      1\n",
              "129968  Well-drained gravel soil gives this wine its c...      1\n",
              "129969  A dry style of Pinot Gris, this is crisp with ...      1\n",
              "129970  Big, rich and off-dry, this is powered by inte...      1\n",
              "\n",
              "[129971 rows x 2 columns]"
            ]
          },
          "execution_count": 9,
          "metadata": {},
          "output_type": "execute_result"
        }
      ],
      "source": [
        "df = df[[\"description\", \"label\"]]\n",
        "df"
      ]
    },
    {
      "cell_type": "code",
      "execution_count": null,
      "id": "be171026",
      "metadata": {
        "id": "be171026"
      },
      "outputs": [],
      "source": [
        "# Lets now split our dataset into training, validation and testing dataset\n",
        "train, val, test = np.split(df.sample(frac = 1), [int(0.8*len(df)), int(0.9*len(df))])"
      ]
    },
    {
      "cell_type": "code",
      "execution_count": null,
      "id": "c1fa713b",
      "metadata": {
        "id": "c1fa713b",
        "outputId": "826dec6d-cf63-4434-f745-64765aeb0e83"
      },
      "outputs": [
        {
          "data": {
            "text/plain": [
              "(103976, 12997, 12998)"
            ]
          },
          "execution_count": 11,
          "metadata": {},
          "output_type": "execute_result"
        }
      ],
      "source": [
        "len(train), len(val), len(test)"
      ]
    },
    {
      "cell_type": "markdown",
      "id": "9591b2ae",
      "metadata": {
        "id": "9591b2ae"
      },
      "source": [
        "Next up, we will write a function that will convert our testing, validation and training dataset DataFrame into a tf.data.Dataset that will shuffle and batch the data. Or, we can simply say that it converts pandas DataFrame to TensorFlow Dataset."
      ]
    },
    {
      "cell_type": "code",
      "execution_count": null,
      "id": "25276328",
      "metadata": {
        "id": "25276328"
      },
      "outputs": [],
      "source": [
        "def df_to_dataset(dataframe, shuffle=True, batch_size=1024):\n",
        "  df = dataframe.copy()\n",
        "  labels = df.pop('label')\n",
        "  df = df[\"description\"]\n",
        "  ds = tf.data.Dataset.from_tensor_slices((df, labels))\n",
        "  if shuffle:\n",
        "    ds = ds.shuffle(buffer_size=len(df))\n",
        "  ds = ds.batch(batch_size)\n",
        "  ds = ds.prefetch(tf.data.AUTOTUNE)\n",
        "  return ds"
      ]
    },
    {
      "cell_type": "markdown",
      "id": "cbb1063e",
      "metadata": {
        "id": "cbb1063e"
      },
      "source": [
        "#### Description for the code given in the cell above:\n",
        "*This code block has been copied from the official documentation provided by TensorFlow in their websites. Hence, it needs some explaination*\n",
        "\n",
        "1. `df = dataframe.copy():` Creates a copy of the input DataFrame to avoid modifying the original data.\n",
        "2. `labels = df.pop('label'):` Removes the `label` column from the DataFrame and assigns it to the variable `labels`.\n",
        "3. `df = df[\"description\"]:` Selects only the `description` column from the DataFrame and assigns it back to the `df` variable.\n",
        "4. `ds = tf.data.Dataset.from_tensor_slices(df, labels):` Creates a TensorFlow Dataset from the `df` (description) and `labels`. The `from_tensor_slices()` function creates a dataset with each element being a tuple of corresponding elements from the input tensors (in this case, `df` and `labels`).\n",
        "5. `if shuffle: ds = ds.shuffle(buffer_size=len(dataframe)):` If the `shuffle` parameter is set to True, shuffles the elements of the dataset. The `buffer_size` specifies the number of elements from which the next element will be randomly sampled.\n",
        "6. `ds = ds.batch(batch_size):` Batches the dataset into mini-batches of size `batch_size`. This step groups consecutive elements from the dataset into batches.\n",
        "7. `ds = ds.prefetch(tf.data.AUTOTUNE):` Pre-fetches data batches, allowing the data to be loaded asynchronously while the model is training on the current batch. The value `tf.data.AUTOTUNE` dynamically adjusts the prefetch buffer size based on available system memory to optimize performance."
      ]
    },
    {
      "cell_type": "code",
      "execution_count": null,
      "id": "b8983b27",
      "metadata": {
        "id": "b8983b27"
      },
      "outputs": [],
      "source": [
        "train_data = df_to_dataset(train)\n",
        "valid_data = df_to_dataset(val)\n",
        "test_data = df_to_dataset(test)"
      ]
    },
    {
      "cell_type": "code",
      "execution_count": null,
      "id": "4dfe39b1",
      "metadata": {
        "id": "4dfe39b1",
        "outputId": "d8be3b90-d26d-4fa3-bff1-b9aa47b8980c"
      },
      "outputs": [
        {
          "ename": "TypeError",
          "evalue": "'_PrefetchDataset' object is not subscriptable",
          "output_type": "error",
          "traceback": [
            "\u001b[1;31m---------------------------------------------------------------------------\u001b[0m",
            "\u001b[1;31mTypeError\u001b[0m                                 Traceback (most recent call last)",
            "Cell \u001b[1;32mIn[14], line 1\u001b[0m\n\u001b[1;32m----> 1\u001b[0m \u001b[43mtrain_data\u001b[49m\u001b[43m[\u001b[49m\u001b[38;5;241;43m0\u001b[39;49m\u001b[43m]\u001b[49m\n",
            "\u001b[1;31mTypeError\u001b[0m: '_PrefetchDataset' object is not subscriptable"
          ]
        }
      ],
      "source": [
        "train_data[0]"
      ]
    },
    {
      "cell_type": "markdown",
      "id": "800fc2ea",
      "metadata": {
        "id": "800fc2ea"
      },
      "source": [
        "The train_data cannot be printed because it is a TensorFlow dataset that cannot be printed (for some reasons). To see this data, we can convert it into a list and then see it."
      ]
    },
    {
      "cell_type": "code",
      "execution_count": null,
      "id": "d5e86ae8",
      "metadata": {
        "id": "d5e86ae8",
        "outputId": "b68932f0-ff7d-48b9-8e56-745a140e2cf1"
      },
      "outputs": [
        {
          "data": {
            "text/plain": [
              "(<tf.Tensor: shape=(1024,), dtype=string, numpy=\n",
              " array([b'This pretty Extra Dry Prosecco (with a playful touch of sweetness) opens with bright aromas of peach, honey and jasmine and segues into a soft, creamy mouthfeel.',\n",
              "        b'The current downturn in demand for both grapes and expensive wines only helps A to Z; there is more good fruit to purchase, and plenty of demand at a $12 price point. This new Pinot Gris is fresh and racy, with a mineral-driven acidity underlying the clean fruit, tasting of pears and pear skin.',\n",
              "        b'Crisp and flavorful, a delicious Chardonnay designed for rich fare like scallops or shrimp in saffron, coconut milk and butter sauce. The flavors of pineapples, mangoes, nectarines, peaches and smoky oak are complex and have a honey-sweet finish.',\n",
              "        ...,\n",
              "        b'Some sandalwood incense elevates the nose. In the mouth there is little varietal character, though the Sangiovese is unblended. Tart, chewy, acidic and light, with plenty of acid.',\n",
              "        b\"Appetizing peardrop notes on the nose lead to a light, refreshing and dry body that's enlivened by fresh spritz. The flavors get a boost of citrus on the clean, refreshing finish.\",\n",
              "        b'Aromas suggest prunes, black cherries, resin and a whiff of exotic spices. The straightforward palate delivers raisins, dried cherries marinated in spirits and roasted coffee bean alongside assertive tannins.'],\n",
              "       dtype=object)>,\n",
              " <tf.Tensor: shape=(1024,), dtype=int32, numpy=array([0, 0, 0, ..., 0, 0, 0])>)"
            ]
          },
          "execution_count": 15,
          "metadata": {},
          "output_type": "execute_result"
        }
      ],
      "source": [
        "list(train_data)[0]"
      ]
    },
    {
      "cell_type": "markdown",
      "id": "d46325d7",
      "metadata": {
        "id": "d46325d7"
      },
      "source": [
        "In the output above, we can see that we have the tensors for all the descriptions and their corresponding labels."
      ]
    },
    {
      "cell_type": "code",
      "execution_count": null,
      "id": "41eadc79",
      "metadata": {
        "id": "41eadc79",
        "outputId": "d482e079-1aa4-40e2-c3cc-e4edd1c80099"
      },
      "outputs": [
        {
          "data": {
            "text/plain": [
              "(1024, 1024)"
            ]
          },
          "execution_count": 16,
          "metadata": {},
          "output_type": "execute_result"
        }
      ],
      "source": [
        "len(list(train_data)[0][0]), len(list(train_data)[0][1])"
      ]
    },
    {
      "cell_type": "markdown",
      "id": "a3434bbd",
      "metadata": {
        "id": "a3434bbd"
      },
      "source": [
        "We have imported something called as tensorflow_hub in the 1st cell block. **TensorFlow Hub** is a repository of Machine Learning models. These models are ready to use, that just need some fine tuning to make it work in our projects. Hence we are going to use it for text classification.\n",
        "\n",
        "**Reminder :** Computers do not understand texts that well. What they do understand is numbers, mostly binaries. So, in our case we need to model our texts (description) into numbers for our machine to understand it, and that's where embedding comes into play.\n",
        "\n",
        "The embedding that we will use is **nnlm-en-dim50** which is used for text embedding. It is a Token based text embedding trained on English Google News 7B corpus. It is a saved model in TensorFlow Hub used for text embedding.\n",
        "*Link:* https://tfhub.dev/google/nnlm-en-dim50/2"
      ]
    },
    {
      "cell_type": "markdown",
      "id": "e3bda0f1",
      "metadata": {
        "id": "e3bda0f1"
      },
      "source": [
        "# Embedding + Model"
      ]
    },
    {
      "cell_type": "code",
      "execution_count": null,
      "id": "5ef52337",
      "metadata": {
        "id": "5ef52337"
      },
      "outputs": [],
      "source": [
        "embedding = \"https://tfhub.dev/google/nnlm-en-dim50/2\"\n",
        "hub_layer = hub.KerasLayer(embedding, dtype=tf.string, trainable=True)"
      ]
    },
    {
      "cell_type": "markdown",
      "id": "8ca52841",
      "metadata": {
        "id": "8ca52841"
      },
      "source": [
        "#### Description for the code above:\n",
        "1. `embedding = \"https://tfhub.dev/google/nnlm-en-dim50/2\"`: This line defines the URL or path to the pre-trained word embedding model you want to use. In this case, it's the `nnlm-en-dim50` model provided by Google. It represents a 50-dimensional word embedding trained on English text.\n",
        "2. `hub_layer = hub.KerasLayer(embedding, dtype=tf.string, trainable=True)`: This line creates a KerasLayer using the TensorFlow Hub URL.  The `hub.KerasLayer` is a convenient way to load and use pre-trained models from TensorFlow Hub in a Keras model.\n",
        "\n",
        "(a). `embedding`: The URL or path to the pre-trained model.\n",
        "\n",
        "(b). `dtype=tf.string`: Specifies the input data type of the layer. In this case, it expects strings as input.\n",
        "\n",
        "(c). `trainable=True`: Indicates whether the embedding layer should be trainable or not. By setting it to `True`, the weights of the embedding layer will be updated during training.\n",
        "\n",
        " By using the `hub.KerasLayer`, you can easily incorporate the pre-trained word embeddings into your own Keras model by connecting it as the first layer. The layer will take text input and output the corresponding word embeddings based on the pre-trained model."
      ]
    },
    {
      "cell_type": "code",
      "execution_count": null,
      "id": "c2ab8288",
      "metadata": {
        "id": "c2ab8288",
        "outputId": "124597c3-ed41-4095-9906-9211abb9bffa"
      },
      "outputs": [
        {
          "data": {
            "text/plain": [
              "<tf.Tensor: shape=(1024, 50), dtype=float32, numpy=\n",
              "array([[ 0.516808  , -0.23449565,  0.26683867, ..., -0.08900933,\n",
              "        -0.06073478,  0.00511104],\n",
              "       [ 0.6053126 , -0.05028325, -0.10285438, ..., -0.20563294,\n",
              "        -0.08465228, -0.16313022],\n",
              "       [ 0.35332438, -0.11170206,  0.13079605, ..., -0.23406036,\n",
              "        -0.08427208,  0.10434351],\n",
              "       ...,\n",
              "       [ 0.36813903,  0.05223183,  0.12846713, ..., -0.11695352,\n",
              "        -0.00501289, -0.01595003],\n",
              "       [ 0.6423655 , -0.15316866, -0.18809181, ...,  0.23848629,\n",
              "        -0.1179915 , -0.0249131 ],\n",
              "       [ 0.37326708, -0.19031796, -0.14556217, ..., -0.13188013,\n",
              "        -0.21815908, -0.04337234]], dtype=float32)>"
            ]
          },
          "execution_count": 18,
          "metadata": {},
          "output_type": "execute_result"
        }
      ],
      "source": [
        "hub_layer(list(train_data)[0][0])"
      ]
    },
    {
      "cell_type": "markdown",
      "id": "83a23b03",
      "metadata": {
        "id": "83a23b03"
      },
      "source": [
        "The output that we get here is basically, all the texts that we had, was projected into a vector of length 50. Which is what embedding is: transforming a text into a vector of numbers that our model can understand."
      ]
    },
    {
      "cell_type": "code",
      "execution_count": null,
      "id": "4db0ee2d",
      "metadata": {
        "id": "4db0ee2d"
      },
      "outputs": [],
      "source": [
        "# another way to create a model\n",
        "model = tf.keras.Sequential()\n",
        "model.add(hub_layer) #1st layer is set to be the hub layer for transforming the text to numeric value\n",
        "model.add(tf.keras.layers.Dense(16, activation='relu'))\n",
        "model.add(tf.keras.layers.Dense(16, activation='relu'))\n",
        "model.add(tf.keras.layers.Dense(1, activation='sigmoid'))"
      ]
    },
    {
      "cell_type": "code",
      "execution_count": null,
      "id": "71315d0b",
      "metadata": {
        "id": "71315d0b"
      },
      "outputs": [],
      "source": [
        "model.compile(optimizer=tf.keras.optimizers.Adam(learning_rate=0.001),\n",
        "             loss=tf.keras.losses.BinaryCrossentropy(),\n",
        "             metrics=['accuracy'])"
      ]
    },
    {
      "cell_type": "code",
      "execution_count": null,
      "id": "f651c2ca",
      "metadata": {
        "id": "f651c2ca",
        "outputId": "c231a7c2-40da-47db-8669-7b0b7c0fd627"
      },
      "outputs": [
        {
          "name": "stdout",
          "output_type": "stream",
          "text": [
            "102/102 [==============================] - 5s 31ms/step - loss: 0.7102 - accuracy: 0.3885\n"
          ]
        },
        {
          "data": {
            "text/plain": [
              "[0.710213840007782, 0.38846465945243835]"
            ]
          },
          "execution_count": 21,
          "metadata": {},
          "output_type": "execute_result"
        }
      ],
      "source": [
        "model.evaluate(train_data)"
      ]
    },
    {
      "cell_type": "code",
      "execution_count": null,
      "id": "af2ffec8",
      "metadata": {
        "id": "af2ffec8",
        "outputId": "5c843c1c-441f-4713-89ae-286f23a9830b"
      },
      "outputs": [
        {
          "name": "stdout",
          "output_type": "stream",
          "text": [
            "13/13 [==============================] - 1s 32ms/step - loss: 0.7096 - accuracy: 0.3929\n"
          ]
        },
        {
          "data": {
            "text/plain": [
              "[0.7096197605133057, 0.3929368257522583]"
            ]
          },
          "execution_count": 22,
          "metadata": {},
          "output_type": "execute_result"
        }
      ],
      "source": [
        "model.evaluate(valid_data)"
      ]
    },
    {
      "cell_type": "markdown",
      "id": "a4118c63",
      "metadata": {
        "id": "a4118c63"
      },
      "source": [
        "The accuracy and the loss for the model is dissapointing, in the least. Let's train our model and see the results"
      ]
    },
    {
      "cell_type": "code",
      "execution_count": null,
      "id": "34a4d3f5",
      "metadata": {
        "scrolled": true,
        "id": "34a4d3f5",
        "outputId": "e1159419-57c8-4315-fed3-18d5f567ccfa"
      },
      "outputs": [
        {
          "name": "stdout",
          "output_type": "stream",
          "text": [
            "Epoch 1/10\n",
            "102/102 [==============================] - 108s 1s/step - loss: 0.5982 - accuracy: 0.6598 - val_loss: 0.4463 - val_accuracy: 0.7884\n",
            "Epoch 2/10\n",
            "102/102 [==============================] - 101s 994ms/step - loss: 0.3847 - accuracy: 0.8229 - val_loss: 0.3838 - val_accuracy: 0.8247\n",
            "Epoch 3/10\n",
            "102/102 [==============================] - 101s 994ms/step - loss: 0.3345 - accuracy: 0.8512 - val_loss: 0.3768 - val_accuracy: 0.8262\n",
            "Epoch 4/10\n",
            "102/102 [==============================] - 101s 987ms/step - loss: 0.3088 - accuracy: 0.8662 - val_loss: 0.3767 - val_accuracy: 0.8287\n",
            "Epoch 5/10\n",
            "102/102 [==============================] - 101s 990ms/step - loss: 0.2895 - accuracy: 0.8762 - val_loss: 0.3818 - val_accuracy: 0.8280\n",
            "Epoch 6/10\n",
            "102/102 [==============================] - 102s 995ms/step - loss: 0.2740 - accuracy: 0.8838 - val_loss: 0.3834 - val_accuracy: 0.8313\n",
            "Epoch 7/10\n",
            "102/102 [==============================] - 101s 988ms/step - loss: 0.2601 - accuracy: 0.8913 - val_loss: 0.3878 - val_accuracy: 0.8310\n",
            "Epoch 8/10\n",
            "102/102 [==============================] - 101s 988ms/step - loss: 0.2467 - accuracy: 0.8977 - val_loss: 0.3946 - val_accuracy: 0.8285\n",
            "Epoch 9/10\n",
            "102/102 [==============================] - 101s 988ms/step - loss: 0.2351 - accuracy: 0.9036 - val_loss: 0.4027 - val_accuracy: 0.8308\n",
            "Epoch 10/10\n",
            "102/102 [==============================] - 101s 991ms/step - loss: 0.2239 - accuracy: 0.9087 - val_loss: 0.4118 - val_accuracy: 0.8306\n"
          ]
        }
      ],
      "source": [
        "history = model.fit(train_data, epochs=10, validation_data=valid_data)"
      ]
    },
    {
      "cell_type": "markdown",
      "id": "49601ffe",
      "metadata": {
        "id": "49601ffe"
      },
      "source": [
        "From our output above, we can see that every other value is progressing perfectly over time, except our validation loss. It starts to decrease at first, but later on it begins to increase, where as the loss in our training data is decreasing over time. This happens because of *overfitting*. It means that our model is behaving perfectly with the training data, but it is generalizing some parameters of our validation data. We can see that by plotting a graph of history of our trained model."
      ]
    },
    {
      "cell_type": "code",
      "execution_count": null,
      "id": "514c6d92",
      "metadata": {
        "id": "514c6d92",
        "outputId": "b2b3e884-3e9e-4ddb-8f33-fe5f248a77a2"
      },
      "outputs": [
        {
          "data": {
            "image/png": "[encoded data removed]",
            "text/plain": [
              "<Figure size 640x480 with 1 Axes>"
            ]
          },
          "metadata": {},
          "output_type": "display_data"
        }
      ],
      "source": [
        "plt.plot(history.history['accuracy'], label = 'Training accuracy')\n",
        "plt.plot(history.history['val_accuracy'], label = 'Validation accuracy')\n",
        "plt.title('Accuracy of model')\n",
        "plt.ylabel('Accuaracy')\n",
        "plt.xlabel('Epochs')\n",
        "plt.legend()\n",
        "plt.show()"
      ]
    },
    {
      "cell_type": "code",
      "execution_count": null,
      "id": "5eb51691",
      "metadata": {
        "id": "5eb51691",
        "outputId": "b92b06f5-d552-4118-863a-52e04a4f308b"
      },
      "outputs": [
        {
          "data": {
            "image/png": "[encoded data removed]",
            "text/plain": [
              "<Figure size 640x480 with 1 Axes>"
            ]
          },
          "metadata": {},
          "output_type": "display_data"
        }
      ],
      "source": [
        "plt.plot(history.history['loss'], label = 'Training loss')\n",
        "plt.plot(history.history['val_loss'], label = 'Validation loss')\n",
        "plt.title('Loss of model')\n",
        "plt.ylabel('Loss')\n",
        "plt.xlabel('Epochs')\n",
        "plt.legend()\n",
        "plt.show()"
      ]
    },
    {
      "cell_type": "markdown",
      "id": "e3e005aa",
      "metadata": {
        "id": "e3e005aa"
      },
      "source": [
        "So, basically this means that our model is incapable of generalizing, i.e., our model is taking in account some of the nodes that aren't working, but still, taken into account, just because they are present in the model. This can be fixed by adding `Dropout` between layers. What `Dropout` will do is drop those nodes or try to figure out a way to how to work around them. Thus, it helps our model generalize a little bit by adding a little bit or randomness in there."
      ]
    },
    {
      "cell_type": "code",
      "execution_count": null,
      "id": "333151e3",
      "metadata": {
        "id": "333151e3"
      },
      "outputs": [],
      "source": [
        "model = tf.keras.Sequential()\n",
        "model.add(hub_layer)\n",
        "model.add(tf.keras.layers.Dense(16, activation='relu'))\n",
        "model.add(tf.keras.layers.Dropout(0.4))\n",
        "model.add(tf.keras.layers.Dense(16, activation='relu'))\n",
        "model.add(tf.keras.layers.Dropout(0.4))\n",
        "model.add(tf.keras.layers.Dense(1, activation='sigmoid'))"
      ]
    },
    {
      "cell_type": "code",
      "execution_count": null,
      "id": "25d78c2c",
      "metadata": {
        "id": "25d78c2c"
      },
      "outputs": [],
      "source": [
        "model.compile(optimizer=tf.keras.optimizers.Adam(learning_rate=0.001),\n",
        "             loss=tf.keras.losses.BinaryCrossentropy(),\n",
        "             metrics=['accuracy'])"
      ]
    },
    {
      "cell_type": "code",
      "execution_count": null,
      "id": "3f977e45",
      "metadata": {
        "id": "3f977e45",
        "outputId": "036eb4be-aed3-44e1-e70b-9a32a3b377c2"
      },
      "outputs": [
        {
          "name": "stdout",
          "output_type": "stream",
          "text": [
            "102/102 [==============================] - 11s 104ms/step - loss: 0.6907 - accuracy: 0.5990\n"
          ]
        },
        {
          "data": {
            "text/plain": [
              "[0.6906875371932983, 0.599032461643219]"
            ]
          },
          "execution_count": 28,
          "metadata": {},
          "output_type": "execute_result"
        }
      ],
      "source": [
        "model.evaluate(train_data)"
      ]
    },
    {
      "cell_type": "code",
      "execution_count": null,
      "id": "5cd2589d",
      "metadata": {
        "id": "5cd2589d",
        "outputId": "931cc856-f82b-4ad0-caf3-144954b1d653"
      },
      "outputs": [
        {
          "name": "stdout",
          "output_type": "stream",
          "text": [
            "13/13 [==============================] - 2s 116ms/step - loss: 0.6900 - accuracy: 0.5985\n"
          ]
        },
        {
          "data": {
            "text/plain": [
              "[0.6899901032447815, 0.5985227227210999]"
            ]
          },
          "execution_count": 29,
          "metadata": {},
          "output_type": "execute_result"
        }
      ],
      "source": [
        "model.evaluate(valid_data)"
      ]
    },
    {
      "cell_type": "code",
      "execution_count": null,
      "id": "41907933",
      "metadata": {
        "id": "41907933",
        "outputId": "f6cb3134-b5c0-4808-c0bd-3ff6f167c2b7"
      },
      "outputs": [
        {
          "name": "stdout",
          "output_type": "stream",
          "text": [
            "Epoch 1/10\n",
            "102/102 [==============================] - 101s 985ms/step - loss: 0.5834 - accuracy: 0.6646 - val_loss: 0.4370 - val_accuracy: 0.8131\n",
            "Epoch 2/10\n",
            "102/102 [==============================] - 96s 941ms/step - loss: 0.3870 - accuracy: 0.8371 - val_loss: 0.3887 - val_accuracy: 0.8237\n",
            "Epoch 3/10\n",
            "102/102 [==============================] - 100s 983ms/step - loss: 0.3248 - accuracy: 0.8696 - val_loss: 0.3960 - val_accuracy: 0.8223\n",
            "Epoch 4/10\n",
            "102/102 [==============================] - 101s 987ms/step - loss: 0.2986 - accuracy: 0.8826 - val_loss: 0.4111 - val_accuracy: 0.8226\n",
            "Epoch 5/10\n",
            "102/102 [==============================] - 101s 991ms/step - loss: 0.2837 - accuracy: 0.8896 - val_loss: 0.4249 - val_accuracy: 0.8223\n",
            "Epoch 6/10\n",
            "102/102 [==============================] - 101s 991ms/step - loss: 0.2702 - accuracy: 0.8946 - val_loss: 0.4282 - val_accuracy: 0.8198\n",
            "Epoch 7/10\n",
            "102/102 [==============================] - 101s 988ms/step - loss: 0.2587 - accuracy: 0.8998 - val_loss: 0.4496 - val_accuracy: 0.8219\n",
            "Epoch 8/10\n",
            "102/102 [==============================] - 112s 1s/step - loss: 0.2459 - accuracy: 0.9057 - val_loss: 0.4598 - val_accuracy: 0.8212\n",
            "Epoch 9/10\n",
            "102/102 [==============================] - 115s 1s/step - loss: 0.2380 - accuracy: 0.9086 - val_loss: 0.4756 - val_accuracy: 0.8192\n",
            "Epoch 10/10\n",
            "102/102 [==============================] - 112s 1s/step - loss: 0.2274 - accuracy: 0.9118 - val_loss: 0.4953 - val_accuracy: 0.8207\n"
          ]
        }
      ],
      "source": [
        "history = model.fit(train_data, epochs=10, validation_data=valid_data)"
      ]
    },
    {
      "cell_type": "code",
      "execution_count": null,
      "id": "7d9b5743",
      "metadata": {
        "id": "7d9b5743",
        "outputId": "59e3f181-50f7-447c-941c-6beae0004c20"
      },
      "outputs": [
        {
          "data": {
            "image/png": "[encoded data removed]",
            "text/plain": [
              "<Figure size 640x480 with 1 Axes>"
            ]
          },
          "metadata": {},
          "output_type": "display_data"
        }
      ],
      "source": [
        "plt.plot(history.history['accuracy'], label = 'Training accuracy')\n",
        "plt.plot(history.history['val_accuracy'], label = 'Validation accuracy')\n",
        "plt.title('Accuracy of model')\n",
        "plt.ylabel('Accuaracy')\n",
        "plt.xlabel('Epochs')\n",
        "plt.legend()\n",
        "plt.show()"
      ]
    },
    {
      "cell_type": "code",
      "execution_count": null,
      "id": "ea681099",
      "metadata": {
        "id": "ea681099",
        "outputId": "63479a8e-edb8-40cb-f830-56b74108e052"
      },
      "outputs": [
        {
          "data": {
            "image/png": "[encoded data removed]",
            "text/plain": [
              "<Figure size 640x480 with 1 Axes>"
            ]
          },
          "metadata": {},
          "output_type": "display_data"
        }
      ],
      "source": [
        "plt.plot(history.history['loss'], label = 'Training loss')\n",
        "plt.plot(history.history['val_loss'], label = 'Validation loss')\n",
        "plt.title('Loss of model')\n",
        "plt.ylabel('Loss')\n",
        "plt.xlabel('Epochs')\n",
        "plt.legend()\n",
        "plt.show()"
      ]
    },
    {
      "cell_type": "markdown",
      "id": "f9e8d7f9",
      "metadata": {
        "id": "f9e8d7f9"
      },
      "source": [
        "There are not much variation among the two results that we obtained. So the issue is not of overfitting but something else. Anyways, the accuracy and loss that we have gathered is good enough for us to proceed to evaluate it to our testing data."
      ]
    },
    {
      "cell_type": "code",
      "execution_count": null,
      "id": "61368d9c",
      "metadata": {
        "id": "61368d9c",
        "outputId": "79171ce8-b2a1-4207-a8b4-30256f8a2d59"
      },
      "outputs": [
        {
          "name": "stdout",
          "output_type": "stream",
          "text": [
            "13/13 [==============================] - 2s 113ms/step - loss: 0.4937 - accuracy: 0.8225\n"
          ]
        },
        {
          "data": {
            "text/plain": [
              "[0.49370473623275757, 0.8225111365318298]"
            ]
          },
          "execution_count": 33,
          "metadata": {},
          "output_type": "execute_result"
        }
      ],
      "source": [
        "model.evaluate(test_data)"
      ]
    },
    {
      "cell_type": "markdown",
      "id": "2db6698d",
      "metadata": {
        "id": "2db6698d"
      },
      "source": [
        "The result is pretty good. But let's check out LSTM as well"
      ]
    },
    {
      "cell_type": "markdown",
      "id": "0ebe78c9",
      "metadata": {
        "id": "0ebe78c9"
      },
      "source": [
        "# LSTM"
      ]
    },
    {
      "cell_type": "code",
      "execution_count": null,
      "id": "d2ad9a97",
      "metadata": {
        "id": "d2ad9a97"
      },
      "outputs": [],
      "source": [
        "encoder = tf.keras.layers.TextVectorization(max_tokens=2000)\n",
        "encoder.adapt(train_data.map(lambda text, label: text))"
      ]
    },
    {
      "cell_type": "markdown",
      "id": "d6c2769a",
      "metadata": {
        "id": "d6c2769a"
      },
      "source": [
        "1. `encoder = tf.keras.layers.TextVectorization(max_tokens=2000)`: This line creates an instance of the TextVectorization layer with a maximum vocabulary size of 2000. The `TextVectorization` layer is responsible for tokenizing and vectorizing the text data.\n",
        "2. `encoder.adapt(train_data.map(lambda text, label: text))`: This line adapts the TextVectorization layer to the training data. It processes the text data and builds the vocabulary based on the tokens encountered in the training set. The map function is used to extract the text input from the train_data dataset.\n",
        "By calling `adapt()` on the `TextVectorization` layer with the training data, the layer learns the vocabulary and other configuration parameters based on the actual data. This ensures that the layer is properly set up to preprocess and vectorize the text data in subsequent steps"
      ]
    },
    {
      "cell_type": "code",
      "execution_count": null,
      "id": "021aeadc",
      "metadata": {
        "id": "021aeadc",
        "outputId": "c66b490d-1730-41f9-f374-1f283b7cb947"
      },
      "outputs": [
        {
          "data": {
            "text/plain": [
              "array(['', '[UNK]', 'and', 'the', 'a', 'of', 'with', 'this', 'is', 'wine',\n",
              "       'flavors', 'in', 'it', 'to', 'its', 'on', 'fruit', 'aromas',\n",
              "       'palate', 'that'], dtype='<U17')"
            ]
          },
          "execution_count": 35,
          "metadata": {},
          "output_type": "execute_result"
        }
      ],
      "source": [
        "vocab = np.array(encoder.get_vocabulary())\n",
        "vocab[:20]"
      ]
    },
    {
      "cell_type": "markdown",
      "id": "b269c215",
      "metadata": {
        "id": "b269c215"
      },
      "source": [
        "`vocab = np.array(encoder.get_vocabulary())`: This line calls the `get_vocabulary()` method on the `TextVectorization` layer (encoder) to retrieve the vocabulary. The vocabulary is returned as a list of tokens.\n",
        "By accessing the `vocab` array, you can examine the tokens present in the vocabulary."
      ]
    },
    {
      "cell_type": "code",
      "execution_count": null,
      "id": "561d7e4e",
      "metadata": {
        "id": "561d7e4e"
      },
      "outputs": [],
      "source": [
        "model = tf.keras.Sequential([\n",
        "    encoder,\n",
        "    tf.keras.layers.Embedding(\n",
        "        input_dim = len(encoder.get_vocabulary()),\n",
        "        output_dim = 32,\n",
        "        mask_zero=True\n",
        "    ),\n",
        "    tf.keras.layers.LSTM(32),\n",
        "    tf.keras.layers.Dense(32, activation='relu'),\n",
        "    tf.keras.layers.Dropout(0.4),\n",
        "    tf.keras.layers.Dense(1, activation='sigmoid')\n",
        "])"
      ]
    },
    {
      "cell_type": "markdown",
      "id": "eb7bfa9b",
      "metadata": {
        "id": "eb7bfa9b"
      },
      "source": [
        "1. `encoder`: The `encoder` is a `TextVectorization` layer that converts text data into numerical representations.\n",
        "2. `tf.keras.layers.Embedding`: This layer creates word embeddings for the input text. It takes the vocabulary size `(len(encoder.get_vocabulary()))` as the input dimension and outputs word embeddings of size 32. The `mask_zero=True` parameter masks padded values in the input sequences. It is used to handle variable-length sequences by masking padded values in the input."
      ]
    },
    {
      "cell_type": "code",
      "execution_count": null,
      "id": "bd9f921d",
      "metadata": {
        "id": "bd9f921d"
      },
      "outputs": [],
      "source": [
        "model.compile(optimizer=tf.keras.optimizers.Adam(learning_rate=0.001),\n",
        "             loss=tf.keras.losses.BinaryCrossentropy(),\n",
        "             metrics=['accuracy'])"
      ]
    },
    {
      "cell_type": "code",
      "execution_count": null,
      "id": "8a0b53be",
      "metadata": {
        "id": "8a0b53be",
        "outputId": "fad55c73-e757-4dad-a59e-10be27a8ab7d"
      },
      "outputs": [
        {
          "name": "stdout",
          "output_type": "stream",
          "text": [
            "102/102 [==============================] - 28s 245ms/step - loss: 0.6927 - accuracy: 0.5688\n"
          ]
        },
        {
          "data": {
            "text/plain": [
              "[0.6927056908607483, 0.5688043236732483]"
            ]
          },
          "execution_count": 38,
          "metadata": {},
          "output_type": "execute_result"
        }
      ],
      "source": [
        "model.evaluate(train_data)"
      ]
    },
    {
      "cell_type": "code",
      "execution_count": null,
      "id": "1a2f859e",
      "metadata": {
        "id": "1a2f859e",
        "outputId": "582404c2-0334-44e3-c27a-0e86975600a2"
      },
      "outputs": [
        {
          "name": "stdout",
          "output_type": "stream",
          "text": [
            "13/13 [==============================] - 2s 170ms/step - loss: 0.6927 - accuracy: 0.5653\n"
          ]
        },
        {
          "data": {
            "text/plain": [
              "[0.6927191019058228, 0.5652843117713928]"
            ]
          },
          "execution_count": 39,
          "metadata": {},
          "output_type": "execute_result"
        }
      ],
      "source": [
        "model.evaluate(valid_data)"
      ]
    },
    {
      "cell_type": "code",
      "execution_count": null,
      "id": "39cb9c70",
      "metadata": {
        "id": "39cb9c70",
        "outputId": "04827bea-ef85-447d-819c-ef0f39fd62c9"
      },
      "outputs": [
        {
          "name": "stdout",
          "output_type": "stream",
          "text": [
            "Epoch 1/10\n",
            "102/102 [==============================] - 50s 436ms/step - loss: 0.5573 - accuracy: 0.7042 - val_loss: 0.3940 - val_accuracy: 0.8175\n",
            "Epoch 2/10\n",
            "102/102 [==============================] - 43s 418ms/step - loss: 0.3702 - accuracy: 0.8350 - val_loss: 0.3651 - val_accuracy: 0.8327\n",
            "Epoch 3/10\n",
            "102/102 [==============================] - 44s 433ms/step - loss: 0.3470 - accuracy: 0.8450 - val_loss: 0.3612 - val_accuracy: 0.8325\n",
            "Epoch 4/10\n",
            "102/102 [==============================] - 43s 423ms/step - loss: 0.3401 - accuracy: 0.8481 - val_loss: 0.3572 - val_accuracy: 0.8367\n",
            "Epoch 5/10\n",
            "102/102 [==============================] - 45s 440ms/step - loss: 0.3351 - accuracy: 0.8499 - val_loss: 0.3604 - val_accuracy: 0.8363\n",
            "Epoch 6/10\n",
            "102/102 [==============================] - 45s 438ms/step - loss: 0.3311 - accuracy: 0.8517 - val_loss: 0.3575 - val_accuracy: 0.8351\n",
            "Epoch 7/10\n",
            "102/102 [==============================] - 46s 443ms/step - loss: 0.3314 - accuracy: 0.8516 - val_loss: 0.3582 - val_accuracy: 0.8375\n",
            "Epoch 8/10\n",
            "102/102 [==============================] - 43s 416ms/step - loss: 0.3263 - accuracy: 0.8530 - val_loss: 0.3560 - val_accuracy: 0.8356\n",
            "Epoch 9/10\n",
            "102/102 [==============================] - 43s 419ms/step - loss: 0.3244 - accuracy: 0.8539 - val_loss: 0.3585 - val_accuracy: 0.8379\n",
            "Epoch 10/10\n",
            "102/102 [==============================] - 43s 419ms/step - loss: 0.3207 - accuracy: 0.8555 - val_loss: 0.3576 - val_accuracy: 0.8380\n"
          ]
        }
      ],
      "source": [
        "history = model.fit(train_data, epochs=10, validation_data=valid_data)"
      ]
    },
    {
      "cell_type": "markdown",
      "id": "22f35e38",
      "metadata": {
        "id": "22f35e38"
      },
      "source": [
        "LSTM yeilds pretty good results compared to before. The output for both training and validation data is quite good. Hence, we would choose this for furthur processes. Let's finally evaluate it against the testing dataset."
      ]
    },
    {
      "cell_type": "code",
      "execution_count": null,
      "id": "a77bfa7e",
      "metadata": {
        "id": "a77bfa7e",
        "outputId": "22021c1d-4009-4fb2-f7bf-1d842730b898"
      },
      "outputs": [
        {
          "name": "stdout",
          "output_type": "stream",
          "text": [
            "13/13 [==============================] - 2s 164ms/step - loss: 0.3455 - accuracy: 0.8461\n"
          ]
        },
        {
          "data": {
            "text/plain": [
              "[0.34554967284202576, 0.8461301922798157]"
            ]
          },
          "execution_count": 41,
          "metadata": {},
          "output_type": "execute_result"
        }
      ],
      "source": [
        "model.evaluate(test_data)"
      ]
    }
  ],
  "metadata": {
    "kernelspec": {
      "display_name": "Python 3 (ipykernel)",
      "language": "python",
      "name": "python3"
    },
    "language_info": {
      "codemirror_mode": {
        "name": "ipython",
        "version": 3
      },
      "file_extension": ".py",
      "mimetype": "text/x-python",
      "name": "python",
      "nbconvert_exporter": "python",
      "pygments_lexer": "ipython3",
      "version": "3.10.9"
    },
    "colab": {
      "provenance": [],
      "include_colab_link": true
    }
  },
  "nbformat": 4,
  "nbformat_minor": 5
}